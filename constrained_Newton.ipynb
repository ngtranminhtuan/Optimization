{
 "cells": [
  {
   "cell_type": "code",
   "execution_count": 1,
   "metadata": {},
   "outputs": [
    {
     "name": "stdout",
     "output_type": "stream",
     "text": [
      "Optimal solution: x =  [0.5 0.5]\n"
     ]
    }
   ],
   "source": [
    "import numpy as np\n",
    "from scipy.optimize import minimize\n",
    "\n",
    "def objective(x):\n",
    "    return x[0]**2 + x[1]**2\n",
    "\n",
    "def constraint(x):\n",
    "    return x[0] + x[1] - 1\n",
    "\n",
    "def lagrangian(x, lmda):\n",
    "    return objective(x) + lmda * constraint(x)\n",
    "\n",
    "def grad_lagrangian(x, lmda):\n",
    "    return np.array([2*x[0] + lmda, 2*x[1] + lmda])\n",
    "\n",
    "def hess_lagrangian(x, lmda):\n",
    "    return np.array([[2, 0], [0, 2]])\n",
    "\n",
    "def kkt_system(x, lmda):\n",
    "    f_grad = grad_lagrangian(x, lmda)\n",
    "    c_jac = np.array([1, 1])\n",
    "    c_val = constraint(x)\n",
    "    lhs = np.array([[2, 0, c_jac[0]], [0, 2, c_jac[1]], [c_jac[0], c_jac[1], 0]])\n",
    "    rhs = np.concatenate((f_grad, np.array([-c_val])))\n",
    "    sol = np.linalg.solve(lhs, rhs)\n",
    "    return sol[:-1], sol[-1]\n",
    "\n",
    "x0 = np.array([0, 0])\n",
    "lmda0 = 0\n",
    "tol = 1e-6\n",
    "max_iter = 100\n",
    "\n",
    "for i in range(max_iter):\n",
    "    x = x0\n",
    "    lmda = lmda0\n",
    "    pk, dk = kkt_system(x, lmda)\n",
    "    x = x + pk\n",
    "    lmda = lmda + dk\n",
    "    if np.linalg.norm(pk) < tol and np.abs(constraint(x)) < tol:\n",
    "        break\n",
    "\n",
    "print(\"Optimal solution: x = \", x)\n"
   ]
  }
 ],
 "metadata": {
  "kernelspec": {
   "display_name": "Python 3.9.7 ('env': venv)",
   "language": "python",
   "name": "python3"
  },
  "language_info": {
   "codemirror_mode": {
    "name": "ipython",
    "version": 3
   },
   "file_extension": ".py",
   "mimetype": "text/x-python",
   "name": "python",
   "nbconvert_exporter": "python",
   "pygments_lexer": "ipython3",
   "version": "3.9.7"
  },
  "orig_nbformat": 4,
  "vscode": {
   "interpreter": {
    "hash": "2cbad96b1916fcb78c6b6e15a9edabbc176db04e5d95c87643107955ae3028e5"
   }
  }
 },
 "nbformat": 4,
 "nbformat_minor": 2
}
