{
 "cells": [
  {
   "cell_type": "code",
   "execution_count": 1,
   "metadata": {},
   "outputs": [
    {
     "name": "stdout",
     "output_type": "stream",
     "text": [
      " message: Warning: Desired error not necessarily achieved due to precision loss.\n",
      " success: False\n",
      "  status: 2\n",
      "     fun: 0.001158937727270114\n",
      "       x: [-3.401e-02 -3.401e-02]\n",
      "     nit: 2\n",
      "     jac: [ 6.826e-02  6.826e-02]\n",
      "    nfev: 35\n",
      "    njev: 23\n",
      "    nhev: 3\n"
     ]
    },
    {
     "name": "stderr",
     "output_type": "stream",
     "text": [
      "/var/folders/_z/csk6lnzx5257p8_ltr6317wh0000gn/T/ipykernel_64045/1569019706.py:6: RuntimeWarning: invalid value encountered in log\n",
      "  return -(1/3)*np.log(1-x[0]**2-x[1]**2-x[0]*x[1])\n",
      "/var/folders/_z/csk6lnzx5257p8_ltr6317wh0000gn/T/ipykernel_64045/1569019706.py:6: RuntimeWarning: invalid value encountered in log\n",
      "  return -(1/3)*np.log(1-x[0]**2-x[1]**2-x[0]*x[1])\n",
      "/var/folders/_z/csk6lnzx5257p8_ltr6317wh0000gn/T/ipykernel_64045/1569019706.py:6: RuntimeWarning: invalid value encountered in log\n",
      "  return -(1/3)*np.log(1-x[0]**2-x[1]**2-x[0]*x[1])\n",
      "/var/folders/_z/csk6lnzx5257p8_ltr6317wh0000gn/T/ipykernel_64045/1569019706.py:6: RuntimeWarning: invalid value encountered in log\n",
      "  return -(1/3)*np.log(1-x[0]**2-x[1]**2-x[0]*x[1])\n"
     ]
    }
   ],
   "source": [
    "import numpy as np\n",
    "from scipy.optimize import minimize\n",
    "\n",
    "# Define a self-concordant function\n",
    "def f(x):\n",
    "    return -(1/3)*np.log(1-x[0]**2-x[1]**2-x[0]*x[1])\n",
    "\n",
    "# Define the gradient of the function\n",
    "def grad_f(x):\n",
    "    return np.array([x[0]+x[1], x[0]+x[1]])/(x[0]**2+x[1]**2+x[0]*x[1]-1)\n",
    "\n",
    "# Define the Hessian of the function\n",
    "def hess_f(x):\n",
    "    t = x[0]**2+x[1]**2+x[0]*x[1]-1\n",
    "    return np.array([\n",
    "        [(2*x[0]+x[1])*t - 2*(x[0]+x[1])**2, t-x[0]*(x[0]+2*x[1])],\n",
    "        [t-x[1]*(x[1]+2*x[0]), (2*x[1]+x[0])*t - 2*(x[0]+x[1])**2]\n",
    "    ])/(t**2)\n",
    "\n",
    "# Set the initial guess for x\n",
    "x0 = np.array([1.0, 1.0])\n",
    "\n",
    "# Use the minimize function with the Newton-CG method\n",
    "res = minimize(f, x0, method='Newton-CG', jac=grad_f, hess=hess_f, tol=1e-6)\n",
    "\n",
    "# Print the optimization results\n",
    "print(res)\n"
   ]
  }
 ],
 "metadata": {
  "kernelspec": {
   "display_name": "Python 3.9.7 ('env': venv)",
   "language": "python",
   "name": "python3"
  },
  "language_info": {
   "codemirror_mode": {
    "name": "ipython",
    "version": 3
   },
   "file_extension": ".py",
   "mimetype": "text/x-python",
   "name": "python",
   "nbconvert_exporter": "python",
   "pygments_lexer": "ipython3",
   "version": "3.9.7"
  },
  "orig_nbformat": 4,
  "vscode": {
   "interpreter": {
    "hash": "2cbad96b1916fcb78c6b6e15a9edabbc176db04e5d95c87643107955ae3028e5"
   }
  }
 },
 "nbformat": 4,
 "nbformat_minor": 2
}
