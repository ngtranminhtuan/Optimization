{
 "cells": [
  {
   "cell_type": "code",
   "execution_count": 1,
   "metadata": {},
   "outputs": [
    {
     "name": "stdout",
     "output_type": "stream",
     "text": [
      "Optimal solution: [0.5 0.5]\n"
     ]
    }
   ],
   "source": [
    "import numpy as np\n",
    "from scipy.optimize import minimize\n",
    "\n",
    "def objective(x):\n",
    "    return x[0]**2 + x[1]**2\n",
    "\n",
    "def constraint(x):\n",
    "    return x[0] + x[1] - 1\n",
    "\n",
    "def augmented_lagrangian(x, lmbda, rho):\n",
    "    return objective(x) + rho/2 * constraint(x)**2 - np.dot(lmbda, constraint(x))\n",
    "\n",
    "def jacobian(x, lmbda, rho):\n",
    "    return np.array([2*x[0], 2*x[1]]) + rho * np.array([2*constraint(x), 2*constraint(x)]) * np.array([1, 1]) - np.array([lmbda])\n",
    "\n",
    "def hessian(x, lmbda, rho):\n",
    "    return np.array([[2 + 2*rho, 2*rho], [2*rho, 2 + 2*rho]])\n",
    "\n",
    "def infeasible_newton(x0, rho, tol):\n",
    "    x = x0\n",
    "    lmbda = 0\n",
    "    iter = 0\n",
    "    while abs(constraint(x)) > tol and iter < 100:\n",
    "        obj_fun = lambda x: augmented_lagrangian(x, lmbda, rho)\n",
    "        jacobian_fun = lambda x: jacobian(x, lmbda, rho)\n",
    "        hessian_fun = lambda x: hessian(x, lmbda, rho)\n",
    "        res = minimize(obj_fun, x, method='Newton-CG', jac=jacobian_fun, hess=hessian_fun, tol=tol)\n",
    "        x = res.x\n",
    "        lmbda += rho * constraint(x)\n",
    "        iter += 1\n",
    "    return x\n",
    "\n",
    "x0 = np.array([0.5, 0.5])\n",
    "rho = 1\n",
    "tol = 1e-6\n",
    "x_opt = infeasible_newton(x0, rho, tol)\n",
    "print('Optimal solution:', x_opt)\n"
   ]
  }
 ],
 "metadata": {
  "kernelspec": {
   "display_name": "Python 3.9.7 ('env': venv)",
   "language": "python",
   "name": "python3"
  },
  "language_info": {
   "codemirror_mode": {
    "name": "ipython",
    "version": 3
   },
   "file_extension": ".py",
   "mimetype": "text/x-python",
   "name": "python",
   "nbconvert_exporter": "python",
   "pygments_lexer": "ipython3",
   "version": "3.9.7"
  },
  "orig_nbformat": 4,
  "vscode": {
   "interpreter": {
    "hash": "2cbad96b1916fcb78c6b6e15a9edabbc176db04e5d95c87643107955ae3028e5"
   }
  }
 },
 "nbformat": 4,
 "nbformat_minor": 2
}
