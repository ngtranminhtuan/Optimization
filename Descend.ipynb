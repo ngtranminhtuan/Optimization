{
 "cells": [
  {
   "cell_type": "code",
   "execution_count": 1,
   "metadata": {},
   "outputs": [
    {
     "name": "stdout",
     "output_type": "stream",
     "text": [
      "Minimum of f(x) = 0.0 at x = -0.9999999991851857\n"
     ]
    }
   ],
   "source": [
    "import numpy as np\n",
    "\n",
    "def f(x):\n",
    "    return x**2 + 2*x + 1\n",
    "\n",
    "def grad_f(x):\n",
    "    return 2*x + 2\n",
    "\n",
    "def gradient_descent(x0, alpha, max_iter):\n",
    "    x = x0\n",
    "    for i in range(max_iter):\n",
    "        x = x - alpha * grad_f(x)\n",
    "    return x\n",
    "\n",
    "x0 = 3\n",
    "alpha = 0.1\n",
    "max_iter = 100\n",
    "x_min = gradient_descent(x0, alpha, max_iter)\n",
    "\n",
    "print(\"Minimum of f(x) =\", f(x_min), \"at x =\", x_min)"
   ]
  }
 ],
 "metadata": {
  "kernelspec": {
   "display_name": "Python 3.9.7 ('env': venv)",
   "language": "python",
   "name": "python3"
  },
  "language_info": {
   "codemirror_mode": {
    "name": "ipython",
    "version": 3
   },
   "file_extension": ".py",
   "mimetype": "text/x-python",
   "name": "python",
   "nbconvert_exporter": "python",
   "pygments_lexer": "ipython3",
   "version": "3.9.7"
  },
  "orig_nbformat": 4,
  "vscode": {
   "interpreter": {
    "hash": "2cbad96b1916fcb78c6b6e15a9edabbc176db04e5d95c87643107955ae3028e5"
   }
  }
 },
 "nbformat": 4,
 "nbformat_minor": 2
}
