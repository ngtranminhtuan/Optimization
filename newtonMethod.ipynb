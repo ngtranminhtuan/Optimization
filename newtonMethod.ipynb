{
 "cells": [
  {
   "cell_type": "code",
   "execution_count": 13,
   "metadata": {},
   "outputs": [],
   "source": [
    "import numpy as np\n",
    "from scipy.optimize import line_search\n",
    "\n",
    "def newton_method(f, grad_f, hess_f, x0, tol=1e-6, max_iter=100):\n",
    "    x = np.atleast_1d(x0)\n",
    "    for i in range(max_iter):\n",
    "        g = grad_f(x)\n",
    "        H = hess_f(x)\n",
    "        if np.isscalar(x0):\n",
    "            H_reg = H + 1e-6\n",
    "        else:\n",
    "            H_reg = H + np.eye(len(x)) * 1e-6\n",
    "        pk = -np.linalg.solve(H_reg, g)\n",
    "        alpha = line_search(f, grad_f, x, pk)[0]\n",
    "        x = x + alpha * pk\n",
    "        if np.linalg.norm(g) < tol:\n",
    "            break\n",
    "    return x"
   ]
  },
  {
   "cell_type": "code",
   "execution_count": 15,
   "metadata": {},
   "outputs": [
    {
     "name": "stdout",
     "output_type": "stream",
     "text": [
      "Minimum value:  1.5640211918347267e-38\n",
      "Minimizer:  [1.24999813e-19 1.95312426e-21]\n"
     ]
    }
   ],
   "source": [
    "import time\n",
    "# define the quadratic function\n",
    "def f(x):\n",
    "    return x[0]**2 + 4*x[1]**2\n",
    "\n",
    "# define the gradient of the quadratic function\n",
    "def grad_f(x):\n",
    "    return np.array([2*x[0], 8*x[1]])\n",
    "\n",
    "# define the Hessian of the quadratic function\n",
    "def hess_f(x):\n",
    "    return np.array([[2, 0], [0, 8]])\n",
    "\n",
    "# set the initial guess\n",
    "x0 = np.array([1.0, 1.0])\n",
    "\n",
    "# call the newton_method function\n",
    "t = time.time()\n",
    "x_min = newton_method(f, grad_f, hess_f, x0)\n",
    "delta_t = time.time() - t\n",
    "print(delta_t)\n",
    "\n",
    "# print the minimum value and location\n",
    "print(\"Minimum value: \", f(x_min))\n",
    "print(\"Minimizer: \", x_min)\n"
   ]
  }
 ],
 "metadata": {
  "kernelspec": {
   "display_name": "Python 3.9.7 ('env': venv)",
   "language": "python",
   "name": "python3"
  },
  "language_info": {
   "codemirror_mode": {
    "name": "ipython",
    "version": 3
   },
   "file_extension": ".py",
   "mimetype": "text/x-python",
   "name": "python",
   "nbconvert_exporter": "python",
   "pygments_lexer": "ipython3",
   "version": "3.9.7"
  },
  "orig_nbformat": 4,
  "vscode": {
   "interpreter": {
    "hash": "2cbad96b1916fcb78c6b6e15a9edabbc176db04e5d95c87643107955ae3028e5"
   }
  }
 },
 "nbformat": 4,
 "nbformat_minor": 2
}
