{
 "cells": [
  {
   "cell_type": "code",
   "execution_count": 4,
   "metadata": {},
   "outputs": [
    {
     "name": "stdout",
     "output_type": "stream",
     "text": [
      "  message: Optimization terminated successfully.\n",
      "  success: True\n",
      "   status: 0\n",
      "      fun: 2.843987518235081e-11\n",
      "        x: [ 1.000e+00  1.000e+00]\n",
      "      nit: 19\n",
      "      jac: [ 3.987e-06 -2.844e-06]\n",
      " hess_inv: [[ 4.948e-01  9.896e-01]\n",
      "            [ 9.896e-01  1.984e+00]]\n",
      "     nfev: 72\n",
      "     njev: 24\n"
     ]
    }
   ],
   "source": [
    "import numpy as np\n",
    "from scipy.optimize import minimize\n",
    "\n",
    "# Define the function to minimize\n",
    "def rosenbrock(x):\n",
    "    return (1 - x[0])**2 + 100 * (x[1] - x[0]**2)**2\n",
    "\n",
    "# Initial guess\n",
    "x0 = np.array([0, 0])\n",
    "\n",
    "# Use the BFGS algorithm to minimize the function\n",
    "res = minimize(rosenbrock, x0, method='BFGS')\n",
    "\n",
    "\n",
    "# Print the result\n",
    "print(res)\n"
   ]
  }
 ],
 "metadata": {
  "kernelspec": {
   "display_name": "Python 3.9.7 ('env': venv)",
   "language": "python",
   "name": "python3"
  },
  "language_info": {
   "codemirror_mode": {
    "name": "ipython",
    "version": 3
   },
   "file_extension": ".py",
   "mimetype": "text/x-python",
   "name": "python",
   "nbconvert_exporter": "python",
   "pygments_lexer": "ipython3",
   "version": "3.9.7"
  },
  "orig_nbformat": 4,
  "vscode": {
   "interpreter": {
    "hash": "2cbad96b1916fcb78c6b6e15a9edabbc176db04e5d95c87643107955ae3028e5"
   }
  }
 },
 "nbformat": 4,
 "nbformat_minor": 2
}
